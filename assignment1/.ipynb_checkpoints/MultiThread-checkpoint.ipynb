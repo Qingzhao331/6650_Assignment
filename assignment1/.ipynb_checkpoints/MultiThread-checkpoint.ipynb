{
 "cells": [
  {
   "cell_type": "code",
   "execution_count": 7,
   "id": "2ca9950e",
   "metadata": {},
   "outputs": [],
   "source": [
    "import pandas as pd\n",
    "import numpy as np\n",
    "import matplotlib.pyplot as plt"
   ]
  },
  {
   "cell_type": "code",
   "execution_count": 35,
   "id": "23101e89",
   "metadata": {},
   "outputs": [
    {
     "data": {
      "text/html": [
       "<div>\n",
       "<style scoped>\n",
       "    .dataframe tbody tr th:only-of-type {\n",
       "        vertical-align: middle;\n",
       "    }\n",
       "\n",
       "    .dataframe tbody tr th {\n",
       "        vertical-align: top;\n",
       "    }\n",
       "\n",
       "    .dataframe thead th {\n",
       "        text-align: right;\n",
       "    }\n",
       "</style>\n",
       "<table border=\"1\" class=\"dataframe\">\n",
       "  <thead>\n",
       "    <tr style=\"text-align: right;\">\n",
       "      <th></th>\n",
       "      <th>Start_Time</th>\n",
       "      <th>Latency</th>\n",
       "      <th>Request_Type</th>\n",
       "      <th>Response_Code</th>\n",
       "    </tr>\n",
       "  </thead>\n",
       "  <tbody>\n",
       "    <tr>\n",
       "      <th>0</th>\n",
       "      <td>1675810715563</td>\n",
       "      <td>301</td>\n",
       "      <td>POST</td>\n",
       "      <td>201</td>\n",
       "    </tr>\n",
       "    <tr>\n",
       "      <th>1</th>\n",
       "      <td>1675810715563</td>\n",
       "      <td>301</td>\n",
       "      <td>POST</td>\n",
       "      <td>201</td>\n",
       "    </tr>\n",
       "    <tr>\n",
       "      <th>2</th>\n",
       "      <td>1675810715564</td>\n",
       "      <td>300</td>\n",
       "      <td>POST</td>\n",
       "      <td>201</td>\n",
       "    </tr>\n",
       "    <tr>\n",
       "      <th>3</th>\n",
       "      <td>1675810715564</td>\n",
       "      <td>300</td>\n",
       "      <td>POST</td>\n",
       "      <td>201</td>\n",
       "    </tr>\n",
       "    <tr>\n",
       "      <th>4</th>\n",
       "      <td>1675810715564</td>\n",
       "      <td>300</td>\n",
       "      <td>POST</td>\n",
       "      <td>201</td>\n",
       "    </tr>\n",
       "  </tbody>\n",
       "</table>\n",
       "</div>"
      ],
      "text/plain": [
       "      Start_Time  Latency Request_Type  Response_Code\n",
       "0  1675810715563      301         POST            201\n",
       "1  1675810715563      301         POST            201\n",
       "2  1675810715564      300         POST            201\n",
       "3  1675810715564      300         POST            201\n",
       "4  1675810715564      300         POST            201"
      ]
     },
     "execution_count": 35,
     "metadata": {},
     "output_type": "execute_result"
    }
   ],
   "source": [
    "data = pd.read_csv('/Users/liqingzhao/Desktop/6650_workplace/assignment1/Client2/src/main/java/Output/MultiThreadData.csv')\n",
    "data.head()"
   ]
  },
  {
   "cell_type": "code",
   "execution_count": 38,
   "id": "1e6e3201",
   "metadata": {},
   "outputs": [
    {
     "data": {
      "text/html": [
       "<div>\n",
       "<style scoped>\n",
       "    .dataframe tbody tr th:only-of-type {\n",
       "        vertical-align: middle;\n",
       "    }\n",
       "\n",
       "    .dataframe tbody tr th {\n",
       "        vertical-align: top;\n",
       "    }\n",
       "\n",
       "    .dataframe thead th {\n",
       "        text-align: right;\n",
       "    }\n",
       "</style>\n",
       "<table border=\"1\" class=\"dataframe\">\n",
       "  <thead>\n",
       "    <tr style=\"text-align: right;\">\n",
       "      <th></th>\n",
       "      <th>Start_Time</th>\n",
       "      <th>Latency</th>\n",
       "      <th>Request_Type</th>\n",
       "      <th>Response_Code</th>\n",
       "      <th>End</th>\n",
       "    </tr>\n",
       "  </thead>\n",
       "  <tbody>\n",
       "    <tr>\n",
       "      <th>0</th>\n",
       "      <td>1675810715563</td>\n",
       "      <td>301</td>\n",
       "      <td>POST</td>\n",
       "      <td>201</td>\n",
       "      <td>0.301</td>\n",
       "    </tr>\n",
       "    <tr>\n",
       "      <th>1</th>\n",
       "      <td>1675810715563</td>\n",
       "      <td>301</td>\n",
       "      <td>POST</td>\n",
       "      <td>201</td>\n",
       "      <td>0.301</td>\n",
       "    </tr>\n",
       "    <tr>\n",
       "      <th>2</th>\n",
       "      <td>1675810715564</td>\n",
       "      <td>300</td>\n",
       "      <td>POST</td>\n",
       "      <td>201</td>\n",
       "      <td>0.301</td>\n",
       "    </tr>\n",
       "    <tr>\n",
       "      <th>3</th>\n",
       "      <td>1675810715564</td>\n",
       "      <td>300</td>\n",
       "      <td>POST</td>\n",
       "      <td>201</td>\n",
       "      <td>0.301</td>\n",
       "    </tr>\n",
       "    <tr>\n",
       "      <th>4</th>\n",
       "      <td>1675810715564</td>\n",
       "      <td>300</td>\n",
       "      <td>POST</td>\n",
       "      <td>201</td>\n",
       "      <td>0.301</td>\n",
       "    </tr>\n",
       "  </tbody>\n",
       "</table>\n",
       "</div>"
      ],
      "text/plain": [
       "      Start_Time  Latency Request_Type  Response_Code    End\n",
       "0  1675810715563      301         POST            201  0.301\n",
       "1  1675810715563      301         POST            201  0.301\n",
       "2  1675810715564      300         POST            201  0.301\n",
       "3  1675810715564      300         POST            201  0.301\n",
       "4  1675810715564      300         POST            201  0.301"
      ]
     },
     "execution_count": 38,
     "metadata": {},
     "output_type": "execute_result"
    }
   ],
   "source": [
    "data['End'] = (data['Start_Time'] + data['Latency'] - 1675810715563) / 1000.0\n",
    "data.head()"
   ]
  },
  {
   "cell_type": "code",
   "execution_count": 41,
   "id": "514c53e5",
   "metadata": {},
   "outputs": [
    {
     "data": {
      "text/plain": [
       "0    0.301\n",
       "1    0.301\n",
       "2    0.301\n",
       "3    0.301\n",
       "4    0.301\n",
       "Name: End, dtype: float64"
      ]
     },
     "execution_count": 41,
     "metadata": {},
     "output_type": "execute_result"
    }
   ],
   "source": [
    "end = data.End\n",
    "end.head()"
   ]
  },
  {
   "cell_type": "code",
   "execution_count": 44,
   "id": "5e05ce3e",
   "metadata": {},
   "outputs": [
    {
     "data": {
      "text/plain": [
       "(array([2940., 3239., 3054., 3074., 3479., 3155., 3341., 3309., 3368.,\n",
       "        3308., 3367., 3231., 2793., 3199., 3092., 3204., 3322., 3362.,\n",
       "        3347., 3180., 3237., 3326., 3175., 3286., 3182., 3307., 3453.,\n",
       "        3181., 3218., 2823., 2753., 2852., 2324., 1025.,  704., 1526.,\n",
       "        1873., 2904., 3108., 3229., 3150., 2989., 3039., 3116., 3158.,\n",
       "        3135., 2559., 2933., 3177., 3153., 3192., 1831., 2125., 2103.,\n",
       "        1846., 2324., 2131., 2347., 2016., 1747., 2411., 2614., 2554.,\n",
       "        2209., 2074., 1710., 2347., 3228., 3389., 3266., 3444., 3064.,\n",
       "        3221., 3191., 2940., 3312., 3235., 3134., 3065., 3052., 2922.,\n",
       "        3130., 3210., 3170., 3053., 3324., 2806., 2844., 2739., 3184.,\n",
       "        3338., 3261., 3209., 2330., 3044., 2916., 3234., 3135., 3220.,\n",
       "        3052., 2907., 3229., 3093., 3148., 3069., 3099., 3178., 2982.,\n",
       "        3159., 3193., 3000., 2880., 3047., 3088., 3009., 2831., 3105.,\n",
       "        3083., 2904., 2969., 2863., 3195., 2838., 2858., 3159., 3265.,\n",
       "        3251., 3195., 3225., 3073., 3074., 3063., 3077., 2908., 3099.,\n",
       "        3105., 3282., 3262., 3312., 3186., 3261., 3144., 3193., 2750.,\n",
       "        2808., 3217., 2883., 2027., 2130., 2256., 2183., 2084., 1643.,\n",
       "        1463., 1685., 1546., 2162., 2163., 1883., 2056., 2022., 2053.,\n",
       "        2838., 2922., 3135., 3094., 3029., 2962., 2739., 2894., 2982.,\n",
       "        2910., 3060., 2952., 1106.]),\n",
       " array([  0.301     ,   1.29217714,   2.28335429,   3.27453143,\n",
       "          4.26570857,   5.25688571,   6.24806286,   7.23924   ,\n",
       "          8.23041714,   9.22159429,  10.21277143,  11.20394857,\n",
       "         12.19512571,  13.18630286,  14.17748   ,  15.16865714,\n",
       "         16.15983429,  17.15101143,  18.14218857,  19.13336571,\n",
       "         20.12454286,  21.11572   ,  22.10689714,  23.09807429,\n",
       "         24.08925143,  25.08042857,  26.07160571,  27.06278286,\n",
       "         28.05396   ,  29.04513714,  30.03631429,  31.02749143,\n",
       "         32.01866857,  33.00984571,  34.00102286,  34.9922    ,\n",
       "         35.98337714,  36.97455429,  37.96573143,  38.95690857,\n",
       "         39.94808571,  40.93926286,  41.93044   ,  42.92161714,\n",
       "         43.91279429,  44.90397143,  45.89514857,  46.88632571,\n",
       "         47.87750286,  48.86868   ,  49.85985714,  50.85103429,\n",
       "         51.84221143,  52.83338857,  53.82456571,  54.81574286,\n",
       "         55.80692   ,  56.79809714,  57.78927429,  58.78045143,\n",
       "         59.77162857,  60.76280571,  61.75398286,  62.74516   ,\n",
       "         63.73633714,  64.72751429,  65.71869143,  66.70986857,\n",
       "         67.70104571,  68.69222286,  69.6834    ,  70.67457714,\n",
       "         71.66575429,  72.65693143,  73.64810857,  74.63928571,\n",
       "         75.63046286,  76.62164   ,  77.61281714,  78.60399429,\n",
       "         79.59517143,  80.58634857,  81.57752571,  82.56870286,\n",
       "         83.55988   ,  84.55105714,  85.54223429,  86.53341143,\n",
       "         87.52458857,  88.51576571,  89.50694286,  90.49812   ,\n",
       "         91.48929714,  92.48047429,  93.47165143,  94.46282857,\n",
       "         95.45400571,  96.44518286,  97.43636   ,  98.42753714,\n",
       "         99.41871429, 100.40989143, 101.40106857, 102.39224571,\n",
       "        103.38342286, 104.3746    , 105.36577714, 106.35695429,\n",
       "        107.34813143, 108.33930857, 109.33048571, 110.32166286,\n",
       "        111.31284   , 112.30401714, 113.29519429, 114.28637143,\n",
       "        115.27754857, 116.26872571, 117.25990286, 118.25108   ,\n",
       "        119.24225714, 120.23343429, 121.22461143, 122.21578857,\n",
       "        123.20696571, 124.19814286, 125.18932   , 126.18049714,\n",
       "        127.17167429, 128.16285143, 129.15402857, 130.14520571,\n",
       "        131.13638286, 132.12756   , 133.11873714, 134.10991429,\n",
       "        135.10109143, 136.09226857, 137.08344571, 138.07462286,\n",
       "        139.0658    , 140.05697714, 141.04815429, 142.03933143,\n",
       "        143.03050857, 144.02168571, 145.01286286, 146.00404   ,\n",
       "        146.99521714, 147.98639429, 148.97757143, 149.96874857,\n",
       "        150.95992571, 151.95110286, 152.94228   , 153.93345714,\n",
       "        154.92463429, 155.91581143, 156.90698857, 157.89816571,\n",
       "        158.88934286, 159.88052   , 160.87169714, 161.86287429,\n",
       "        162.85405143, 163.84522857, 164.83640571, 165.82758286,\n",
       "        166.81876   , 167.80993714, 168.80111429, 169.79229143,\n",
       "        170.78346857, 171.77464571, 172.76582286, 173.757     ]),\n",
       " <BarContainer object of 175 artists>)"
      ]
     },
     "execution_count": 44,
     "metadata": {},
     "output_type": "execute_result"
    },
    {
     "data": {
      "image/png": "[encoded data removed]",
      "text/plain": [
       "<Figure size 640x480 with 1 Axes>"
      ]
     },
     "metadata": {},
     "output_type": "display_data"
    }
   ],
   "source": [
    "plt.hist(end, bins = 175)"
   ]
  },
  {
   "cell_type": "code",
   "execution_count": null,
   "id": "94e331e2",
   "metadata": {},
   "outputs": [],
   "source": []
  },
  {
   "cell_type": "code",
   "execution_count": null,
   "id": "b38ec75f",
   "metadata": {},
   "outputs": [],
   "source": []
  }
 ],
 "metadata": {
  "kernelspec": {
   "display_name": "Python 3 (ipykernel)",
   "language": "python",
   "name": "python3"
  },
  "language_info": {
   "codemirror_mode": {
    "name": "ipython",
    "version": 3
   },
   "file_extension": ".py",
   "mimetype": "text/x-python",
   "name": "python",
   "nbconvert_exporter": "python",
   "pygments_lexer": "ipython3",
   "version": "3.9.13"
  }
 },
 "nbformat": 4,
 "nbformat_minor": 5
}
